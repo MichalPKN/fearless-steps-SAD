{
 "cells": [
  {
   "cell_type": "code",
   "execution_count": 7,
   "metadata": {},
   "outputs": [],
   "source": [
    "%load_ext autoreload\n",
    "%autoreload 2"
   ]
  },
  {
   "cell_type": "code",
   "execution_count": 40,
   "metadata": {},
   "outputs": [],
   "source": [
    "import load\n",
    "import model\n",
    "import numpy as np"
   ]
  },
  {
   "cell_type": "code",
   "execution_count": 29,
   "metadata": {},
   "outputs": [
    {
     "name": "stdout",
     "output_type": "stream",
     "text": [
      "Loading audio from FSC_P4_Streams\\Audio\\Streams\\Train\n",
      "Loaded 2 audio files\n",
      "Loading labels from FSC_P4_Streams\\Transcripts\\SAD\\Train\n",
      "Loaded 2 labels\n"
     ]
    }
   ],
   "source": [
    "train_path = \"FSC_P4_Streams\\Audio\\Streams\\Train\"\n",
    "train_labels = \"FSC_P4_Streams\\Transcripts\\SAD\\Train\"\n",
    "dev_path = \"FSC_P4_Streams\\Audio\\Streams\\Dev\"\n",
    "dev_labels = \"FSC_P4_Streams\\Transcripts\\SAD\\Dev\"\n",
    "\n",
    "\n",
    "data_loader = load.LoadAudio(debug=False)\n",
    "X, audio_info_list, Y = data_loader.load_all(train_path, train_labels)"
   ]
  },
  {
   "cell_type": "code",
   "execution_count": 38,
   "metadata": {},
   "outputs": [],
   "source": [
    "import torch\n",
    "from torch.utils.data import Dataset, DataLoader"
   ]
  },
  {
   "cell_type": "code",
   "execution_count": 45,
   "metadata": {},
   "outputs": [
    {
     "name": "stdout",
     "output_type": "stream",
     "text": [
      "tensor([[[0.4755],\n",
      "         [0.4782],\n",
      "         [0.4799],\n",
      "         ...,\n",
      "         [0.4643],\n",
      "         [0.4643],\n",
      "         [0.4643]]], grad_fn=<SigmoidBackward0>)\n",
      "tensor([[[0.4712],\n",
      "         [0.4701],\n",
      "         [0.4695],\n",
      "         ...,\n",
      "         [0.4649],\n",
      "         [0.4670],\n",
      "         [0.4694]]], grad_fn=<SigmoidBackward0>)\n"
     ]
    }
   ],
   "source": [
    "class SADDataset(Dataset):\n",
    "    def __init__(self, X, Y, min_len=None):\n",
    "        self.X = X  # List of feature matrices\n",
    "        self.Y = Y  # List of labels (0/1)\n",
    "        self.min_len = min_len or min([len(x) for x in X])\n",
    "\n",
    "    def __len__(self):\n",
    "        return len(self.X)\n",
    "    \n",
    "    def __getitem__(self, idx):\n",
    "        x = torch.tensor(self.X[idx], dtype=torch.float32)\n",
    "        y = torch.tensor(self.Y[idx], dtype=torch.float32)\n",
    "        # Pad the sequences to max_len\n",
    "        # x_padded = F.pad(x, (0, 0, 0, self.max_len - len(x)))  # Pads time axis\n",
    "        x_cut = x[:self.min_len]\n",
    "        y_cut = y[:self.min_len]\n",
    "        return x_cut, y_cut\n",
    "\n",
    "\n",
    "dataset = SADDataset(X, Y)\n",
    "dataloader = DataLoader(dataset, batch_size=1, shuffle=True)\n",
    "\n",
    "input_size = 40  # Example: feature size from MFCC or spectrogram\n",
    "hidden_size = 256  # This can be scaled up for larger models\n",
    "num_layers = 3  # Number of LSTM layers\n",
    "\n",
    "sad_model = model.SADModel(input_size, hidden_size, num_layers)\n",
    "\n",
    "print(\"training model\")\n",
    "for batch_x, batch_y in dataloader:\n",
    "    output = sad_model(batch_x)  # Forward pass\n",
    "print(\"finished training model\")\n",
    "print(\"last batch: \", output.shape, \"mean: \", output.mean())\n",
    "\n",
    "\n",
    "    \n"
   ]
  },
  {
   "cell_type": "code",
   "execution_count": 58,
   "metadata": {},
   "outputs": [
    {
     "name": "stdout",
     "output_type": "stream",
     "text": [
      "torch.Size([1, 180001, 1])\n",
      "tensor(0.4712, grad_fn=<SelectBackward0>)\n",
      "tensor(0.4673, grad_fn=<MeanBackward0>)\n"
     ]
    }
   ],
   "source": [
    "print(output.shape)  # (batch_size, seq_len, 1)\n",
    "print(output[0, 0, 0])\n",
    "print(torch.mean(output)) "
   ]
  }
 ],
 "metadata": {
  "kernelspec": {
   "display_name": ".venv",
   "language": "python",
   "name": "python3"
  },
  "language_info": {
   "codemirror_mode": {
    "name": "ipython",
    "version": 3
   },
   "file_extension": ".py",
   "mimetype": "text/x-python",
   "name": "python",
   "nbconvert_exporter": "python",
   "pygments_lexer": "ipython3",
   "version": "3.11.7"
  }
 },
 "nbformat": 4,
 "nbformat_minor": 2
}
